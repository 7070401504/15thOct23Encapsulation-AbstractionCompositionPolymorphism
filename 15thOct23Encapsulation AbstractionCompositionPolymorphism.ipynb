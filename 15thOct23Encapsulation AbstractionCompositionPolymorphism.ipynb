{
 "cells": [
  {
   "cell_type": "markdown",
   "id": "ca8e102d-d366-45ee-9adf-5627edfd39e0",
   "metadata": {},
   "source": [
    "15thOct23Encapsulation AbstractionCompositionPolymorphism"
   ]
  },
  {
   "cell_type": "code",
   "execution_count": null,
   "id": "26fef2a5-c66d-4f24-942a-23ff1b01ac20",
   "metadata": {},
   "outputs": [],
   "source": []
  },
  {
   "cell_type": "code",
   "execution_count": 1,
   "id": "2e5ade08-994f-42f7-830b-745ade0c56bf",
   "metadata": {},
   "outputs": [],
   "source": [
    "#polymorphism"
   ]
  },
  {
   "cell_type": "code",
   "execution_count": 2,
   "id": "737e8db6-375e-495c-beda-dcc20bb59c35",
   "metadata": {},
   "outputs": [],
   "source": [
    "def test(a,b):\n",
    "    return a+b"
   ]
  },
  {
   "cell_type": "code",
   "execution_count": 3,
   "id": "0aa86b4c-fd82-4c5c-af41-0e8a21d413b8",
   "metadata": {},
   "outputs": [
    {
     "data": {
      "text/plain": [
       "9"
      ]
     },
     "execution_count": 3,
     "metadata": {},
     "output_type": "execute_result"
    }
   ],
   "source": [
    "test(4,5)"
   ]
  },
  {
   "cell_type": "code",
   "execution_count": 7,
   "id": "c2daf375-c7e9-41fd-ba77-45d3bdca97fd",
   "metadata": {},
   "outputs": [
    {
     "data": {
      "text/plain": [
       "'mohammad shahsah'"
      ]
     },
     "execution_count": 7,
     "metadata": {},
     "output_type": "execute_result"
    }
   ],
   "source": [
    "test(\"mohammad\" ,\" shahsah\")"
   ]
  },
  {
   "cell_type": "code",
   "execution_count": 16,
   "id": "c8bd8386-74c1-4278-83b4-3475fbb7a84f",
   "metadata": {},
   "outputs": [
    {
     "name": "stdout",
     "output_type": "stream",
     "text": [
      "this will give me adetails about data science\n",
      "this will be gime deatils about big data student\n"
     ]
    }
   ],
   "source": [
    "class pwskils:\n",
    "    def student(self):\n",
    "        pass\n",
    "\n",
    "class datascience(pwskils):\n",
    "    def student(self):\n",
    "        print(\"this will give me adetails about data science\")\n",
    "class bigdata(pwskils):\n",
    "    def student(self):\n",
    "        print(\"this will be gime deatils about big data student\")\n",
    "\n",
    "#yash = datascience()\n",
    "#farhana = bigdata()\n",
    "#yash.student()\n",
    "#farhana.student()\n",
    "yesh=yash = datascience()\n",
    "shahasnah=bigdata()\n",
    "yesh.student()\n",
    "shahasnah.student()"
   ]
  },
  {
   "cell_type": "code",
   "execution_count": 17,
   "id": "05bc673e-1b8f-4065-beb9-ba200ec10f7d",
   "metadata": {},
   "outputs": [],
   "source": [
    "pw=pwskils()\n",
    "pw.student()"
   ]
  },
  {
   "cell_type": "code",
   "execution_count": 28,
   "id": "ccabd9dc-647b-4422-86e4-14d81846013c",
   "metadata": {},
   "outputs": [
    {
     "name": "stdout",
     "output_type": "stream",
     "text": [
      "5 34\n"
     ]
    }
   ],
   "source": [
    "class bigdata:\n",
    "    def __init__(self , number_of_class , number_of_studnet):\n",
    "        self.number_of_class = number_of_class\n",
    "        self.number_of_studnet = number_of_studnet\n",
    "        \n",
    "    def __add__(self , other):\n",
    "        return bigdata(self.number_of_class + other.number_of_class , self.number_of_studnet+ other.number_of_studnet)\n",
    "    \n",
    "c1 = bigdata(1,10)\n",
    "c2 = bigdata(2,12)\n",
    "#bigdata(3 , 22)\n",
    "c3 = bigdata(2,12)\n",
    "result = c1+c2 + c3\n",
    "print(result.number_of_class , result.number_of_studnet)"
   ]
  },
  {
   "cell_type": "code",
   "execution_count": 33,
   "id": "18f750e3-344c-4c46-afa8-8c7c2fd8373d",
   "metadata": {},
   "outputs": [
    {
     "name": "stdout",
     "output_type": "stream",
     "text": [
      "5 34\n"
     ]
    }
   ],
   "source": [
    "class bigdata:\n",
    "    def __init__(self, number_of_class, number_of_student):\n",
    "        self.number_of_class = number_of_class\n",
    "        self.number_of_student = number_of_student\n",
    "\n",
    "    def __add__(self, other):\n",
    "        return bigdata(\n",
    "            self.number_of_class + other.number_of_class,\n",
    "            self.number_of_student + other.number_of_student\n",
    "        )\n",
    "\n",
    "# Creating instances of the bigdata class\n",
    "c1 = bigdata(1, 10)\n",
    "c2 = bigdata(2, 12)\n",
    "c3=bigdata(2,12)\n",
    "\n",
    "# Adding instances\n",
    "result = c1 + c2 +c3\n",
    "\n",
    "# Accessing the attributes of the result\n",
    "print(result.number_of_class, result.number_of_student)\n"
   ]
  },
  {
   "cell_type": "code",
   "execution_count": 32,
   "id": "6a8cf9be-dd21-4505-b3dc-31f9cf3bb937",
   "metadata": {},
   "outputs": [
    {
     "name": "stdout",
     "output_type": "stream",
     "text": [
      "<__main__.bigdata object at 0x106f6ad90>\n"
     ]
    }
   ],
   "source": [
    "print(c1)"
   ]
  },
  {
   "cell_type": "code",
   "execution_count": 30,
   "id": "18a739f2-63cf-4c28-a2e3-dfe1711e46ea",
   "metadata": {},
   "outputs": [
    {
     "name": "stdout",
     "output_type": "stream",
     "text": [
      "<__main__.bigdata object at 0x106d087d0>\n"
     ]
    }
   ],
   "source": [
    "print(c2)"
   ]
  },
  {
   "cell_type": "code",
   "execution_count": 34,
   "id": "adbaf9aa-29d6-4e2c-8dc6-26a9cbb2fe4e",
   "metadata": {},
   "outputs": [],
   "source": [
    "class datascience:\n",
    "    def student(self):\n",
    "        print(\"this will give me a deatils about data sciece student\")\n",
    "        "
   ]
  },
  {
   "cell_type": "code",
   "execution_count": 35,
   "id": "2ed9d28f-3895-4ad1-8de9-65f68d0b2594",
   "metadata": {},
   "outputs": [],
   "source": [
    "o1=datascience()\n",
    "o2=datascience()\n",
    "o3=datascience()"
   ]
  },
  {
   "cell_type": "code",
   "execution_count": 37,
   "id": "8322e8cc-0366-437f-b226-3aab4d0ca43c",
   "metadata": {},
   "outputs": [
    {
     "ename": "TypeError",
     "evalue": "unsupported operand type(s) for +: 'datascience' and 'datascience'",
     "output_type": "error",
     "traceback": [
      "\u001b[0;31m---------------------------------------------------------------------------\u001b[0m",
      "\u001b[0;31mTypeError\u001b[0m                                 Traceback (most recent call last)",
      "Cell \u001b[0;32mIn[37], line 1\u001b[0m\n\u001b[0;32m----> 1\u001b[0m r\u001b[38;5;241m=\u001b[39mo1\u001b[38;5;241m+\u001b[39mo2\u001b[38;5;241m+\u001b[39mo3\n",
      "\u001b[0;31mTypeError\u001b[0m: unsupported operand type(s) for +: 'datascience' and 'datascience'"
     ]
    }
   ],
   "source": [
    "r=o1+o2+o3"
   ]
  },
  {
   "cell_type": "code",
   "execution_count": 50,
   "id": "e58f5035-a743-4b11-82cc-d5486a686ae9",
   "metadata": {},
   "outputs": [],
   "source": [
    "class datascience:\n",
    "    def student(self):\n",
    "        print(\"this will give me adetails about data science\")\n",
    "class bigdata:\n",
    "    def student(self):\n",
    "        print(\"this will be gime deatils about big data student\")\n",
    "    def output_class(class_obj):\n",
    "      return class_obj.student()"
   ]
  },
  {
   "cell_type": "code",
   "execution_count": 51,
   "id": "c5933acd-56b9-496e-9584-114c2e792828",
   "metadata": {},
   "outputs": [],
   "source": [
    "sesha = datascience()\n",
    "sashi= bigdata()"
   ]
  },
  {
   "cell_type": "code",
   "execution_count": 53,
   "id": "82b6028c-63da-48df-a0a5-b84d91c31af9",
   "metadata": {},
   "outputs": [
    {
     "name": "stdout",
     "output_type": "stream",
     "text": [
      "this will give me adetails about data science\n"
     ]
    }
   ],
   "source": [
    "output_class(sesha)"
   ]
  },
  {
   "cell_type": "code",
   "execution_count": 54,
   "id": "ac13ad32-a8cf-4bcf-b265-593a080303f5",
   "metadata": {},
   "outputs": [
    {
     "name": "stdout",
     "output_type": "stream",
     "text": [
      "this will be gime deatils about big data student\n"
     ]
    }
   ],
   "source": [
    "output_class(sashi)"
   ]
  },
  {
   "cell_type": "code",
   "execution_count": 55,
   "id": "39003ee7-f1de-4139-9434-96cedacb4fbe",
   "metadata": {},
   "outputs": [],
   "source": [
    "class pwskill:\n",
    "    def student(self ):\n",
    "        return \"this is apw student\"\n",
    "\n",
    "class datascience(pwskill):\n",
    "    def student(self):\n",
    "        print(\"this is give a deatils abour dat science courde\")"
   ]
  },
  {
   "cell_type": "code",
   "execution_count": 56,
   "id": "faf04903-56cd-48e7-916f-8dbe50951e9b",
   "metadata": {},
   "outputs": [
    {
     "name": "stdout",
     "output_type": "stream",
     "text": [
      "this is give a deatils abour dat science courde\n"
     ]
    }
   ],
   "source": [
    "shahansha=datascience()\n",
    "shahansha.student()"
   ]
  },
  {
   "cell_type": "code",
   "execution_count": 2,
   "id": "f0697a7f-496c-43f4-b58d-271328dbd834",
   "metadata": {},
   "outputs": [],
   "source": [
    "class pwskils:\n",
    "    def student(self):\n",
    "        return \"this is a pw skilll student\"\n",
    "\n",
    "class datascience(pwskils):\n",
    "    def student(self):\n",
    "        print(\"this will give me adetails about data science\")\n"
   ]
  },
  {
   "cell_type": "code",
   "execution_count": 4,
   "id": "e722a702-8ac6-4308-be6b-ef8a10d2f9ba",
   "metadata": {},
   "outputs": [
    {
     "name": "stdout",
     "output_type": "stream",
     "text": [
      "this will give me adetails about data science\n"
     ]
    }
   ],
   "source": [
    "shahasnha=datascience()\n",
    "shahasnha.student()"
   ]
  },
  {
   "cell_type": "code",
   "execution_count": 5,
   "id": "e3db2b35-2a17-435e-80d0-d600a4a3a8de",
   "metadata": {},
   "outputs": [
    {
     "data": {
      "text/plain": [
       "11"
      ]
     },
     "execution_count": 5,
     "metadata": {},
     "output_type": "execute_result"
    }
   ],
   "source": [
    "len(\"shahahsnahs\")"
   ]
  },
  {
   "cell_type": "code",
   "execution_count": 6,
   "id": "8514f83c-18b6-45b0-97dc-53c714a66454",
   "metadata": {},
   "outputs": [
    {
     "data": {
      "text/plain": [
       "7"
      ]
     },
     "execution_count": 6,
     "metadata": {},
     "output_type": "execute_result"
    }
   ],
   "source": [
    "len([3,4,5,7,9,9,2])"
   ]
  },
  {
   "cell_type": "markdown",
   "id": "e03cc1cd-f514-4aa6-b537-f9ec93406fac",
   "metadata": {},
   "source": [
    "Encapsulation,"
   ]
  },
  {
   "cell_type": "code",
   "execution_count": 30,
   "id": "fc515b93-1d49-4e57-8075-705fefb6a1a2",
   "metadata": {},
   "outputs": [],
   "source": [
    "class test:\n",
    "    def __init__(self):\n",
    "        self.__x=\"shahanshah\"\n",
    "    def __test_meth(self):\n",
    "       return \"this is a test\n",
    "    def acces_var(self):\n",
    "        return self.__x"
   ]
  },
  {
   "cell_type": "code",
   "execution_count": 31,
   "id": "6ccbe417-9534-46d7-8fa4-258f4ac283bd",
   "metadata": {},
   "outputs": [],
   "source": [
    "t1=test()"
   ]
  },
  {
   "cell_type": "code",
   "execution_count": 32,
   "id": "9a29cb1a-4bf4-44c8-a9f6-bd9c6c184730",
   "metadata": {},
   "outputs": [
    {
     "data": {
      "text/plain": [
       "'shahanshah'"
      ]
     },
     "execution_count": 32,
     "metadata": {},
     "output_type": "execute_result"
    }
   ],
   "source": [
    "t1._test__x"
   ]
  },
  {
   "cell_type": "code",
   "execution_count": 34,
   "id": "dd550ed3-f8ff-48b3-87d7-5509f8b5e813",
   "metadata": {},
   "outputs": [
    {
     "ename": "AttributeError",
     "evalue": "'test' object has no attribute 'test_meth'",
     "output_type": "error",
     "traceback": [
      "\u001b[0;31m---------------------------------------------------------------------------\u001b[0m",
      "\u001b[0;31mAttributeError\u001b[0m                            Traceback (most recent call last)",
      "Cell \u001b[0;32mIn[34], line 1\u001b[0m\n\u001b[0;32m----> 1\u001b[0m t1\u001b[38;5;241m.\u001b[39mtest_meth()\n",
      "\u001b[0;31mAttributeError\u001b[0m: 'test' object has no attribute 'test_meth'"
     ]
    }
   ],
   "source": [
    "t1.test_meth()"
   ]
  },
  {
   "cell_type": "code",
   "execution_count": 9,
   "id": "1e0d4ded-880c-4e11-93b5-f3ff3b761c0e",
   "metadata": {},
   "outputs": [],
   "source": [
    "class test:\n",
    "    def __init__(self) :\n",
    "        self._x = \"sudh\"\n",
    "        self.y = \"kumar\"\n",
    "        self.z = \"pwskills\"\n",
    "        \n",
    "    def __test_meth(self):\n",
    "        return \"this is just a test\"\n",
    "    \n",
    "    def access_var(self):\n",
    "        return self._x\n",
    "    \n",
    "    def update_var(self , data):\n",
    "        self._x = data"
   ]
  },
  {
   "cell_type": "code",
   "execution_count": 10,
   "id": "6bfff294-1a75-43e2-b849-31ab2a4805d5",
   "metadata": {},
   "outputs": [],
   "source": [
    "t1=test()\n",
    "t1.update_var(334444)"
   ]
  },
  {
   "cell_type": "code",
   "execution_count": 11,
   "id": "44421701-dcc4-41e2-b2e9-8a6103a8bbaf",
   "metadata": {},
   "outputs": [
    {
     "data": {
      "text/plain": [
       "334444"
      ]
     },
     "execution_count": 11,
     "metadata": {},
     "output_type": "execute_result"
    }
   ],
   "source": [
    "t1.access_var()"
   ]
  },
  {
   "cell_type": "code",
   "execution_count": 12,
   "id": "641b43e9-55df-47dc-85be-aa4e2ad0ae98",
   "metadata": {},
   "outputs": [
    {
     "data": {
      "text/plain": [
       "'this is just a test'"
      ]
     },
     "execution_count": 12,
     "metadata": {},
     "output_type": "execute_result"
    }
   ],
   "source": [
    "t1._test__test_meth()"
   ]
  },
  {
   "cell_type": "code",
   "execution_count": null,
   "id": "b11ab263-747e-4316-a068-b7c1130a4fdb",
   "metadata": {},
   "outputs": [],
   "source": []
  },
  {
   "cell_type": "code",
   "execution_count": 16,
   "id": "a150e0ee-0a78-4d90-8a0a-0955e7a68952",
   "metadata": {},
   "outputs": [
    {
     "data": {
      "text/plain": [
       "432"
      ]
     },
     "execution_count": 16,
     "metadata": {},
     "output_type": "execute_result"
    }
   ],
   "source": [
    "class bank:\n",
    "    def __init__(self,account_number,balance):\n",
    "        self._account_number=account_number\n",
    "        self.__balance=balance\n",
    "    def chake_balance(self,password):\n",
    "        if password==\"mysecurepas\":\n",
    "            return self.__balance\n",
    "        else:\n",
    "            return \"incorect password\"\n",
    "\n",
    "shahanshah=bank(2334343,432)\n",
    "shahanshah.chake_balance(\"mysecurepas\")"
   ]
  },
  {
   "cell_type": "code",
   "execution_count": 26,
   "id": "3032bd10-3e24-41aa-bbc6-4902aaefc06b",
   "metadata": {},
   "outputs": [],
   "source": [
    "class queue:\n",
    "    def __init__(self):\n",
    "         self._queue=[]\n",
    "        \n",
    "    def enqueue(self,data):\n",
    "        self._queue.append(data)\n",
    "        \n",
    "    def dequeue(self):\n",
    "        if self._queue:\n",
    "            return self._quequ.pop(0)\n",
    "        else:\n",
    "            print(\"its empty\")\n",
    "\n",
    "    def showdata(self):\n",
    "        return self._queue\n",
    "\n"
   ]
  },
  {
   "cell_type": "code",
   "execution_count": 28,
   "id": "8d567587-68cb-4ccf-9bf2-a8979f92833a",
   "metadata": {},
   "outputs": [],
   "source": [
    "q=queue()"
   ]
  },
  {
   "cell_type": "code",
   "execution_count": 30,
   "id": "e57b655f-1b50-477d-bf10-c1fd980dc605",
   "metadata": {},
   "outputs": [
    {
     "name": "stdout",
     "output_type": "stream",
     "text": [
      "its empty\n"
     ]
    }
   ],
   "source": [
    "q.dequeue()"
   ]
  },
  {
   "cell_type": "code",
   "execution_count": 34,
   "id": "70d22784-01f5-43ea-b7ef-b0b6055bd882",
   "metadata": {},
   "outputs": [],
   "source": [
    "q.enqueue(45)"
   ]
  },
  {
   "cell_type": "code",
   "execution_count": 35,
   "id": "3f443e5a-0e10-4804-82cc-860030aacafc",
   "metadata": {},
   "outputs": [
    {
     "data": {
      "text/plain": [
       "[45, 45]"
      ]
     },
     "execution_count": 35,
     "metadata": {},
     "output_type": "execute_result"
    }
   ],
   "source": [
    "q.showdata()"
   ]
  },
  {
   "cell_type": "code",
   "execution_count": 47,
   "id": "47687b29-f0d0-42ae-aee5-7e18ba399f6d",
   "metadata": {},
   "outputs": [],
   "source": [
    "l=[2,5,3,53,6,7]"
   ]
  },
  {
   "cell_type": "code",
   "execution_count": 48,
   "id": "8e9719df-597f-45dc-ae6e-d627b74fb1e2",
   "metadata": {},
   "outputs": [
    {
     "data": {
      "text/plain": [
       "7"
      ]
     },
     "execution_count": 48,
     "metadata": {},
     "output_type": "execute_result"
    }
   ],
   "source": [
    "l.pop()"
   ]
  },
  {
   "cell_type": "raw",
   "id": "d3ae0e22-4167-49f6-a87f-49b76dfadefa",
   "metadata": {},
   "source": [
    "Abstraction,"
   ]
  },
  {
   "cell_type": "code",
   "execution_count": 49,
   "id": "437d79c0-d0f8-4b6f-b5d3-b857229fdd9d",
   "metadata": {},
   "outputs": [],
   "source": [
    "class pwskill:\n",
    "    def student_details(self):\n",
    "        return \"this is give by student details\""
   ]
  },
  {
   "cell_type": "code",
   "execution_count": 10,
   "id": "6f93e0c5-b988-4455-8397-e6abcde89042",
   "metadata": {},
   "outputs": [],
   "source": [
    "from abc import ABC , abstractmethod\n",
    "class pwskills():\n",
    "    \n",
    "    @abstractmethod\n",
    "    def databaseconnect(self):\n",
    "        pass\n",
    "    @abstractmethod\n",
    "    def checkuserenrollment(self, user_mailid):\n",
    "        pass\n",
    "    @abstractmethod\n",
    "    def check_completed_lecture(self, user_id , class_id):\n",
    "        pass\n",
    "    @abstractmethod\n",
    "    def check_lab_usases(self, user_id):\n",
    "        pass\n",
    "    @abstractmethod\n",
    "    def check_internship(self,user_id):\n",
    "        pass"
   ]
  },
  {
   "cell_type": "code",
   "execution_count": 16,
   "id": "21bdd1b3-f0e5-4777-91de-cbf84f5bd80b",
   "metadata": {},
   "outputs": [],
   "source": [
    "class databaseconnect(pwskills):\n",
    "     def databaseconnect(self):\n",
    "        print(\"thhis is a implementation of database connect\")\n",
    "\n",
    "     def checkuserenrollment(self,user_mailid):\n",
    "         return \"test\"\n",
    "     def chake_lab_usases(self,user_id):\n",
    "         return \"test\"\n",
    "     def chake_internship(self,user):\n",
    "         return \"test\""
   ]
  },
  {
   "cell_type": "code",
   "execution_count": 17,
   "id": "3e4166c0-b0bc-473d-b357-735b18cf4339",
   "metadata": {},
   "outputs": [],
   "source": [
    "db1 = databaseconnect()"
   ]
  },
  {
   "cell_type": "code",
   "execution_count": 18,
   "id": "0cde861b-ee89-448c-9ead-f3e9030aed86",
   "metadata": {},
   "outputs": [
    {
     "name": "stdout",
     "output_type": "stream",
     "text": [
      "thhis is a implementation of database connect\n"
     ]
    }
   ],
   "source": [
    "db1.databaseconnect()"
   ]
  },
  {
   "cell_type": "code",
   "execution_count": 63,
   "id": "4dc82c29-857c-40c9-b644-71775bae6514",
   "metadata": {},
   "outputs": [],
   "source": [
    "class claculation :\n",
    "    \n",
    "    @staticmethod\n",
    "    def add(x,y):\n",
    "        return x+y\n",
    "    @staticmethod\n",
    "\n",
    "    def sub(shahanshah,x,y):\n",
    "    \n",
    "        return x-y\n",
    "    def div(self,x,y):\n",
    "           return x/y"
   ]
  },
  {
   "cell_type": "code",
   "execution_count": 65,
   "id": "fef212e7-b734-4d46-89ac-37012c784e8d",
   "metadata": {},
   "outputs": [],
   "source": [
    "class cal(claculation):\n",
    "    pass"
   ]
  },
  {
   "cell_type": "code",
   "execution_count": 67,
   "id": "11a727d1-9eba-413d-86c1-6e0d887a8c73",
   "metadata": {},
   "outputs": [
    {
     "data": {
      "text/plain": [
       "11"
      ]
     },
     "execution_count": 67,
     "metadata": {},
     "output_type": "execute_result"
    }
   ],
   "source": [
    "cal.add(5,6)"
   ]
  },
  {
   "cell_type": "code",
   "execution_count": null,
   "id": "c892001f-1030-4307-9f67-ef33baf9783e",
   "metadata": {},
   "outputs": [],
   "source": []
  },
  {
   "cell_type": "code",
   "execution_count": 74,
   "id": "df97711a-1077-4efd-acc1-ab15cc473bbc",
   "metadata": {},
   "outputs": [
    {
     "data": {
      "text/plain": [
       "12"
      ]
     },
     "execution_count": 74,
     "metadata": {},
     "output_type": "execute_result"
    }
   ],
   "source": [
    "c1=cal()\n",
    "c1.add(5,7)"
   ]
  },
  {
   "cell_type": "code",
   "execution_count": null,
   "id": "2e7e1eb7-99ac-4ff3-a4fb-f5f7b7576cd8",
   "metadata": {},
   "outputs": [],
   "source": [
    "c1."
   ]
  },
  {
   "cell_type": "code",
   "execution_count": 64,
   "id": "50d64df2-6b2f-4222-82d5-12eff945a53a",
   "metadata": {},
   "outputs": [
    {
     "data": {
      "text/plain": [
       "0.75"
      ]
     },
     "execution_count": 64,
     "metadata": {},
     "output_type": "execute_result"
    }
   ],
   "source": [
    "a=claculation()\n",
    "a.div(3,4)"
   ]
  },
  {
   "cell_type": "code",
   "execution_count": 50,
   "id": "f4798e15-47cc-4529-a017-3b7a497c5c2e",
   "metadata": {},
   "outputs": [
    {
     "data": {
      "text/plain": [
       "11.0"
      ]
     },
     "execution_count": 50,
     "metadata": {},
     "output_type": "execute_result"
    }
   ],
   "source": [
    "b=claculation()\n",
    "b.div(66,6)"
   ]
  },
  {
   "cell_type": "code",
   "execution_count": 51,
   "id": "9b379961-dadc-4850-bb00-3a3a4cdaa2a4",
   "metadata": {},
   "outputs": [
    {
     "data": {
      "text/plain": [
       "-1"
      ]
     },
     "execution_count": 51,
     "metadata": {},
     "output_type": "execute_result"
    }
   ],
   "source": [
    "a=claculation()\n",
    "a.sub(3,4)"
   ]
  },
  {
   "cell_type": "code",
   "execution_count": 52,
   "id": "2cc32461-dd8d-46ef-b82c-94ce027fc5aa",
   "metadata": {},
   "outputs": [
    {
     "data": {
      "text/plain": [
       "9"
      ]
     },
     "execution_count": 52,
     "metadata": {},
     "output_type": "execute_result"
    }
   ],
   "source": [
    "claculation.add(4,5)"
   ]
  },
  {
   "cell_type": "code",
   "execution_count": 54,
   "id": "a81d7ae4-3bfd-465b-a035-e4ac211c4b62",
   "metadata": {},
   "outputs": [
    {
     "data": {
      "text/plain": [
       "-1"
      ]
     },
     "execution_count": 54,
     "metadata": {},
     "output_type": "execute_result"
    }
   ],
   "source": [
    "claculation.sub(4,4,5)"
   ]
  },
  {
   "cell_type": "code",
   "execution_count": 3,
   "id": "bb9cf0e5-ef79-44b5-90a1-08631e9d3d4d",
   "metadata": {},
   "outputs": [],
   "source": [
    "class file_ops :\n",
    "    def __init__(self, filename):\n",
    "        self.filename = filename\n",
    "        \n",
    "    def read_file(self):\n",
    "        with open(self.filename , 'r') as file :\n",
    "            return file.read()\n",
    "        \n",
    "    def write_file(self , data) : \n",
    "        with open(self.filename , 'w') as file :\n",
    "            file.write(data ) "
   ]
  },
  {
   "cell_type": "code",
   "execution_count": 4,
   "id": "36b1e3fe-87e6-4467-bfaf-404f23617401",
   "metadata": {},
   "outputs": [],
   "source": [
    "sudh_op_file =file_ops('sudhfile.txt')\n",
    "sudh_op_file.write_file(\"fsdfsfdsfsddfs sdfsf \")"
   ]
  },
  {
   "cell_type": "code",
   "execution_count": 5,
   "id": "8affc18a-08a3-4cdf-97bb-62ff63981043",
   "metadata": {},
   "outputs": [],
   "source": [
    "kapil = file_ops('kapil.txt')\n",
    "kapil.write_file(\"this is kapil file \")"
   ]
  },
  {
   "cell_type": "code",
   "execution_count": 6,
   "id": "a18f8689-e824-4c2a-aaa0-3b02e56026f5",
   "metadata": {},
   "outputs": [
    {
     "ename": "NameError",
     "evalue": "name 'sachin' is not defined",
     "output_type": "error",
     "traceback": [
      "\u001b[0;31m---------------------------------------------------------------------------\u001b[0m",
      "\u001b[0;31mNameError\u001b[0m                                 Traceback (most recent call last)",
      "Cell \u001b[0;32mIn[6], line 2\u001b[0m\n\u001b[1;32m      1\u001b[0m achin \u001b[38;5;241m=\u001b[39m file_ops(\u001b[38;5;124m\"\u001b[39m\u001b[38;5;124msachin.txt\u001b[39m\u001b[38;5;124m\"\u001b[39m)\n\u001b[0;32m----> 2\u001b[0m sachin\u001b[38;5;241m.\u001b[39mwrite_file(\u001b[38;5;124m\"\u001b[39m\u001b[38;5;124mthis is sachin data\u001b[39m\u001b[38;5;124m\"\u001b[39m)\n",
      "\u001b[0;31mNameError\u001b[0m: name 'sachin' is not defined"
     ]
    }
   ],
   "source": [
    "achin = file_ops(\"sachin.txt\")\n",
    "sachin.write_file(\"this is sachin data\")"
   ]
  },
  {
   "cell_type": "code",
   "execution_count": 85,
   "id": "4f758d59-279d-490a-9170-10dab3fd22f4",
   "metadata": {},
   "outputs": [
    {
     "ename": "SyntaxError",
     "evalue": "invalid syntax (1945171390.py, line 1)",
     "output_type": "error",
     "traceback": [
      "\u001b[0;36m  Cell \u001b[0;32mIn[85], line 1\u001b[0;36m\u001b[0m\n\u001b[0;31m    sachin():\u001b[0m\n\u001b[0m            ^\u001b[0m\n\u001b[0;31mSyntaxError\u001b[0m\u001b[0;31m:\u001b[0m invalid syntax\n"
     ]
    }
   ],
   "source": []
  },
  {
   "cell_type": "code",
   "execution_count": 7,
   "id": "9e05f6c5-06b3-4280-93d6-a88fffb9d341",
   "metadata": {},
   "outputs": [],
   "source": [
    "#composition"
   ]
  },
  {
   "cell_type": "code",
   "execution_count": 8,
   "id": "dbf2b2ea-9170-4cf8-a3de-b10b16db2393",
   "metadata": {},
   "outputs": [],
   "source": [
    "class pwskill:\n",
    "    def student(self):\n",
    "        return \"student details\"\n",
    "\n",
    "class datascience:\n",
    "    def __init__(self):\n",
    "        self.student=pwskill()"
   ]
  },
  {
   "cell_type": "code",
   "execution_count": 17,
   "id": "8a35c8fa-9466-43f6-adb6-2770a42bfbb1",
   "metadata": {},
   "outputs": [],
   "source": [
    "ds=datascience()"
   ]
  },
  {
   "cell_type": "code",
   "execution_count": 18,
   "id": "14a128d5-d780-4b19-8eaf-02d052128e35",
   "metadata": {},
   "outputs": [
    {
     "data": {
      "text/plain": [
       "'student details'"
      ]
     },
     "execution_count": 18,
     "metadata": {},
     "output_type": "execute_result"
    }
   ],
   "source": [
    "ds.student.student()"
   ]
  },
  {
   "cell_type": "code",
   "execution_count": 24,
   "id": "5cb2d6f9-41d8-4e72-8dab-9280ddf331f0",
   "metadata": {},
   "outputs": [],
   "source": [
    "class data:\n",
    "    def __init__(self,mentor_name):\n",
    "        self.mentor_name=mentor_name\n",
    "\n",
    "class webdev:\n",
    "    def __init__(self,mentor,lectore_name):\n",
    "        self.mentor=mentor\n",
    "        self.lectore_name=lectore_name"
   ]
  },
  {
   "cell_type": "code",
   "execution_count": 34,
   "id": "64353b55-d5bc-4f33-8247-8031e392faa5",
   "metadata": {},
   "outputs": [],
   "source": [
    "d=data(\"sudhansu\")\n",
    "w=webdev(d,\"css\")"
   ]
  },
  {
   "cell_type": "code",
   "execution_count": 35,
   "id": "bc86339b-25fc-484d-9efe-d784175b5922",
   "metadata": {},
   "outputs": [
    {
     "data": {
      "text/plain": [
       "'sudhansu'"
      ]
     },
     "execution_count": 35,
     "metadata": {},
     "output_type": "execute_result"
    }
   ],
   "source": [
    "d.mentor_name"
   ]
  },
  {
   "cell_type": "code",
   "execution_count": 36,
   "id": "81382f9e-91d2-4647-b4f0-f3742cdaa8b4",
   "metadata": {},
   "outputs": [
    {
     "data": {
      "text/plain": [
       "'css'"
      ]
     },
     "execution_count": 36,
     "metadata": {},
     "output_type": "execute_result"
    }
   ],
   "source": [
    "w.lectore_name"
   ]
  },
  {
   "cell_type": "code",
   "execution_count": 38,
   "id": "cb9a5b4f-b008-4347-b15c-be5c622993a9",
   "metadata": {},
   "outputs": [
    {
     "data": {
      "text/plain": [
       "'sudhansu'"
      ]
     },
     "execution_count": 38,
     "metadata": {},
     "output_type": "execute_result"
    }
   ],
   "source": [
    "w.mentor.mentor_name"
   ]
  },
  {
   "cell_type": "code",
   "execution_count": 45,
   "id": "68f579a2-2be7-499b-b91b-0c46886d7bd0",
   "metadata": {},
   "outputs": [],
   "source": [
    "l=[3,4,5,66,4,]\n",
    "l1=[3,4,5,6,7,8,9,6]\n",
    "l2=[\"shahnah\",\"mohammsas\",\"pwskill\",\"krish\"]"
   ]
  },
  {
   "cell_type": "code",
   "execution_count": null,
   "id": "0ef60100-2e92-49d0-a0b6-8d4003f9bc9c",
   "metadata": {},
   "outputs": [],
   "source": []
  },
  {
   "cell_type": "code",
   "execution_count": 49,
   "id": "76a6d1d6-a601-40ce-b25a-ba4e202577f2",
   "metadata": {},
   "outputs": [
    {
     "data": {
      "text/plain": [
       "[(3, 3, 'shahnah'), (4, 4, 'mohammsas'), (5, 5, 'pwskill'), (66, 6, 'krish')]"
      ]
     },
     "execution_count": 49,
     "metadata": {},
     "output_type": "execute_result"
    }
   ],
   "source": [
    "list(zip(l,l1,l2))"
   ]
  },
  {
   "cell_type": "code",
   "execution_count": 50,
   "id": "422e84d9-9010-4cf7-aff3-2c76370538e0",
   "metadata": {},
   "outputs": [
    {
     "data": {
      "text/plain": [
       "['shahnah', 'mohammsas', 'pwskill', 'krish']"
      ]
     },
     "execution_count": 50,
     "metadata": {},
     "output_type": "execute_result"
    }
   ],
   "source": [
    "l2"
   ]
  },
  {
   "cell_type": "code",
   "execution_count": 53,
   "id": "e1778964-344d-4fbb-a868-53f71d39dad3",
   "metadata": {},
   "outputs": [
    {
     "name": "stdout",
     "output_type": "stream",
     "text": [
      "0  shahnah\n",
      "1  mohammsas\n",
      "2  pwskill\n",
      "3  krish\n"
     ]
    }
   ],
   "source": [
    "for index,data in enumerate(l2):\n",
    "    print(index,\"\",data)"
   ]
  },
  {
   "cell_type": "markdown",
   "id": "ba73fe41-5716-4565-8fac-894b38d5afd5",
   "metadata": {},
   "source": [
    "SESSON END"
   ]
  },
  {
   "cell_type": "code",
   "execution_count": null,
   "id": "8221a28b-9f6b-4641-ab1a-a09ed45062d3",
   "metadata": {},
   "outputs": [],
   "source": []
  }
 ],
 "metadata": {
  "kernelspec": {
   "display_name": "Python 3 (ipykernel)",
   "language": "python",
   "name": "python3"
  },
  "language_info": {
   "codemirror_mode": {
    "name": "ipython",
    "version": 3
   },
   "file_extension": ".py",
   "mimetype": "text/x-python",
   "name": "python",
   "nbconvert_exporter": "python",
   "pygments_lexer": "ipython3",
   "version": "3.11.5"
  }
 },
 "nbformat": 4,
 "nbformat_minor": 5
}
